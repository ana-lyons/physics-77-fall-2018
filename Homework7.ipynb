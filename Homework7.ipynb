{
 "cells": [
  {
   "cell_type": "markdown",
   "metadata": {},
   "source": [
    "Ana Lyons\n",
    "101"
   ]
  },
  {
   "cell_type": "markdown",
   "metadata": {
    "collapsed": true
   },
   "source": [
    "# Homework 7: Numerical Differentiation, Integration, Root Finding"
   ]
  },
  {
   "cell_type": "markdown",
   "metadata": {},
   "source": [
    "##### ** Submit this notebook to bCourses to receive a credit for this assignment. **\n",
    "\n",
    "Please complete this homework assignment in code cells in the iPython notebook. Include comments in your code when necessary. Enter your name in the cell at the top of the notebook, and rename the notebook [email_name]_Home07.ipynb, where [email_name] is the part of your UCB email address that precedes \"@berkeley.edu\" "
   ]
  },
  {
   "cell_type": "markdown",
   "metadata": {},
   "source": [
    "## Problem 1: Numerical integration [Ayars 2.2]\n",
    "\n",
    "Compare results of the trapezoid integration method,  Simpson’s method, and the adaptive Gaussian quadrature method for the following integrals:\n",
    "\n",
    "1. $$\\int_0^{\\pi/2}\\cos x\\, dx $$\n",
    "1. $$\\int_1^3 \\frac{1}{x^2}\\, dx $$\n",
    "1. $$\\int_2^4 (x^2+x+1)\\, dx$$\n",
    "1. $$\\int_0^{6.9}\\cos\\left(\\frac{\\pi}{2}x^2\\right)\\, dx$$\n",
    "\n",
    "For each part, try it with more and with fewer slices to determine how many slices are required to give an ‘acceptable’ answer. (If you double the number of slices and still get the same answer, then try half as many, etc.) Parts (3) and (4) are particularly interesting in this regard. In your submitted work, describe roughly how many points were required, and explain."
   ]
  },
  {
   "cell_type": "code",
   "execution_count": 51,
   "metadata": {},
   "outputs": [
    {
     "name": "stdout",
     "output_type": "stream",
     "text": [
      "cos(x) from 0 to pi/2\n",
      "Quadrature: 0.9999999999999999\n",
      "Trapezoid: 0.9998648110993812\n",
      "Simpson: 0.9999972377492226\n",
      "Very few slices were needed to get very close to the actual answer, only around 5. \n",
      "Adding more slices didn't change the precision very quickly.\n",
      "\n",
      "1/x^2 from 1 to 3\n",
      "Quadrature: 0.6666666666666667\n",
      "Trapezoid: 0.6667119980563353\n",
      "Simpson: 0.6666678395646843\n",
      "Less slices were needed to get an acceptable answer with Simpsons Method, only around 35-40. \n",
      "More were needed to get to the same precision with the trapezoidal method, around 120.\n",
      "\n",
      "x^2+x+1 from 2 to 4\n",
      "Quadrature: 26.666666666666664\n",
      "Trapezoid: 26.66722199083715\n",
      "Simpson: 26.666677999813004\n",
      "Around 25 slices were needed to get a reasonable answer from the trapezoidal method.\n",
      "The simpson method bounced back and forth in precision, starting out very close to the actual value with\n",
      "only 5 slices, and getting less precise with more slices, and then getting more precise with even more\n",
      "slices, around 50.\n",
      "\n",
      "cos(pi/2*x^2) from 0 to 6.9\n",
      "Quadrature: 0.47322531435151366\n",
      "Trapezoid: 0.47908166269959535\n",
      "Simpson: 0.471815277516693\n",
      "It took longer to reach a good precision with this function. Very small numbers of slices gave \n",
      "very different answers than the quadrature method, and they varied a lot until larger numbers of slices, \n",
      "around 95.\n"
     ]
    }
   ],
   "source": [
    "import numpy as np\n",
    "import scipy as sc\n",
    "import matplotlib.pyplot as plt\n",
    "from scipy.optimize import fsolve\n",
    "%matplotlib inline\n",
    "\n",
    "#cosx\n",
    "print(\"cos(x) from 0 to pi/2\")\n",
    "def func(x):\n",
    "    return np.cos(x)\n",
    "\n",
    "n=40\n",
    "x = np.linspace(0, np.pi*0.5, n)\n",
    "y = func(x)\n",
    "\n",
    "quad_ans = sc.integrate.quad(func, 0, np.pi*0.5)\n",
    "trapz_ans = sc.integrate.trapz(y, x)\n",
    "simps_ans = sc.integrate.simps(y, x)\n",
    "\n",
    "print('Quadrature: {}\\nTrapezoid: {}\\nSimpson: {}'.format(quad_ans[0], trapz_ans, simps_ans))\n",
    "print('''Very few slices were needed to get very close to the actual answer, only around 5. \n",
    "Adding more slices didn't change the precision very quickly.\\n''')\n",
    "\n",
    "#1/x^2 from 1 to 3\n",
    "print('1/x^2 from 1 to 3')\n",
    "def func(x):\n",
    "    return 1/(x**2)\n",
    "\n",
    "n=120\n",
    "x = np.linspace(1, 3, n)\n",
    "y = func(x)\n",
    "\n",
    "quad_ans = sc.integrate.quad(func, 1, 3)\n",
    "trapz_ans = sc.integrate.trapz(y, x)\n",
    "simps_ans = sc.integrate.simps(y, x)\n",
    "\n",
    "print('Quadrature: {}\\nTrapezoid: {}\\nSimpson: {}'.format(quad_ans[0], trapz_ans, simps_ans))\n",
    "print('''Less slices were needed to get an acceptable answer with Simpsons Method, only around 35-40. \n",
    "More were needed to get to the same precision with the trapezoidal method, around 120.\\n''' )\n",
    "\n",
    "#x^2+x+1 from 2 to 4\n",
    "print('x^2+x+1 from 2 to 4')\n",
    "def func(x):\n",
    "    return x**2 + x + 1\n",
    "\n",
    "n=50\n",
    "x = np.linspace(2, 4, n)\n",
    "y = func(x)\n",
    "\n",
    "quad_ans = sc.integrate.quad(func, 2, 4)\n",
    "trapz_ans = sc.integrate.trapz(y, x)\n",
    "simps_ans = sc.integrate.simps(y, x)\n",
    "\n",
    "print('Quadrature: {}\\nTrapezoid: {}\\nSimpson: {}'.format(quad_ans[0], trapz_ans, simps_ans))\n",
    "print('''Around 25 slices were needed to get a reasonable answer from the trapezoidal method.\n",
    "The simpson method bounced back and forth in precision, starting out very close to the actual value with\n",
    "only 5 slices, and getting less precise with more slices, and then getting more precise with even more\n",
    "slices, around 50.\\n''')\n",
    "\n",
    "#cos(pi/2*x^2) from 0 to 6.9\n",
    "print('cos(pi/2*x^2) from 0 to 6.9')\n",
    "def func(x):\n",
    "    return np.cos(np.pi*0.5*x**2)\n",
    "\n",
    "n=95\n",
    "x = np.linspace(0, 6.9, n)\n",
    "y = func(x)\n",
    "\n",
    "quad_ans = sc.integrate.quad(func, 0, 6.9)\n",
    "trapz_ans = sc.integrate.trapz(y, x)\n",
    "simps_ans = sc.integrate.simps(y, x)\n",
    "\n",
    "print('Quadrature: {}\\nTrapezoid: {}\\nSimpson: {}'.format(quad_ans[0], trapz_ans, simps_ans))\n",
    "print('''It took longer to reach a good precision with this function. Very small numbers of slices gave \n",
    "very different answers than the quadrature method, and they varied a lot until larger numbers of slices, \n",
    "around 95.''')\n"
   ]
  },
  {
   "cell_type": "markdown",
   "metadata": {},
   "source": [
    "## Problem 2: Numerical differentiation [Ayars 2.8]\n",
    "\n",
    "Write a function that, given a list of abscissa values $x_i$ and function values $f_i(x_i)$, returns a list of values of the second derivative $f''(x_i)$ of the function. Test your function by giving it a list of known function values for $\\sin(x)$ and making a graph of the differences between the output of the function and $−\\sin(x)$. Compare your output to Python's *scipy.misc.derivative*\n"
   ]
  },
  {
   "cell_type": "code",
   "execution_count": 66,
   "metadata": {},
   "outputs": [
    {
     "data": {
      "text/plain": [
       "[<matplotlib.lines.Line2D at 0x7f3ad45805c0>]"
      ]
     },
     "execution_count": 66,
     "metadata": {},
     "output_type": "execute_result"
    },
    {
     "data": {
      "image/png": "[encoded data removed]",
      "text/plain": [
       "<Figure size 432x288 with 1 Axes>"
      ]
     },
     "metadata": {
      "needs_background": "light"
     },
     "output_type": "display_data"
    }
   ],
   "source": [
    "def second_derivative(x, y):\n",
    "    '''Given an array/list of x values and f(x) values, returns a list of second derivative values. \n",
    "    Uses centered derivative method twice.\n",
    "    Inputs: 2 arrays of same dimension\n",
    "    Output: array of same dimension as inputs'''\n",
    "    #first derivative\n",
    "    dyc = [0.0]*len(x)\n",
    "    dyc[0] = (y[1] - y[0])/(x[1] - x[0])\n",
    "    for i in range(1, len(y)-1):\n",
    "        dyc[i] = (y[i+1] - y[i-1])/(x[i+1] - x[i-1])\n",
    "    dyc[-1] = (y[-1] - y[-2])/(x[-1] - x[-2])\n",
    "    \n",
    "    #second derivative (repeat process above but y=dyc)\n",
    "    dyc2 = [0.0]*len(x)\n",
    "    dyc2[0] = (dyc[1] - dyc[0])/(x[1] - x[0])\n",
    "    for i in range(0, len(dyc)-1):\n",
    "        dyc2[i] = (dyc[i+1] - dyc[i-1])/(x[i+1] - x[i-1])\n",
    "    dyc2[-1] = (dyc[-1] - dyc[-2])/(x[-1] - x[-2])\n",
    "    \n",
    "    return dyc2\n",
    "    \n",
    "x = np.linspace(0, 2*np.pi, 100)\n",
    "y = np.sin(x)\n",
    "dyc2 = second_derivative(x, y)\n",
    "\n",
    "diff = -np.sin(x)-dyc2\n",
    "plt.plot(x, diff)\n",
    "    \n",
    "    "
   ]
  },
  {
   "cell_type": "markdown",
   "metadata": {
    "collapsed": true
   },
   "source": [
    "## Problem 3: Root Finding [Newman 6.16]\n",
    "\n",
    "There is a magical point between the Earth and the Moon, called the\n",
    "$L_1$ Lagrange point, at which a satellite will orbit the Earth in perfect\n",
    "synchrony with the Moon, staying always in between the two.  This works\n",
    "because the inward pull of the Earth and the outward pull of the Moon\n",
    "combine to create exactly the needed centripetal force that keeps the\n",
    "satellite in its orbit. See Fig. 6.16 on p.274 of Newman. \n",
    "\n",
    "You may derive in 5A (or look up in a textbook) that assuming circular orbits, and assuming that the Earth is much more massive than either the Moon or the satellite, that the distance $r$ from the center of the Earth to the $L_1$ point satisfies\n",
    "$$\n",
    "{GM\\over r^2} - {Gm\\over(R-r)^2} = \\omega^2 r\n",
    "$$\n",
    "where $M$ and $m$ are the Earth and Moon masses, $G$ is Newton's\n",
    "gravitational constant, and $\\omega$ is the angular velocity of both the\n",
    "Moon and the satellite.\n",
    "\n",
    "The equation above is a fifth-order polynomial equation in $r$ (also called a quintic equation). Such equations cannot be solved exactly in closed form, but it's straightforward to solve them numerically.  Write a program to solve for the distance $r$ from the Earth to the $L_1$ point.  Compute a solution accurate to at least four significant figures.\n",
    "\n",
    "The values of the various parameters are:\n",
    "\n",
    "G = 6.674e-11 m^3 kg^-1 s^-2<br>\n",
    "M = 5.974e24 kg<br>\n",
    "m = 7.348e22 kg<br>\n",
    "R = 3.844e8 m<br>\n",
    "$\\omega$ = 2.662e-6 s^-1.<br>\n",
    "\n",
    "You will also need to choose a suitable starting value for $r$, or two\n",
    "starting values if you use the secant method.\n"
   ]
  },
  {
   "cell_type": "code",
   "execution_count": 17,
   "metadata": {},
   "outputs": [
    {
     "name": "stdout",
     "output_type": "stream",
     "text": [
      "Estimate of the distance from Earth to L1 point: 326045072 m (326045 km)\n"
     ]
    }
   ],
   "source": [
    "import numpy as np\n",
    "import scipy as sc\n",
    "import matplotlib.pyplot as plt\n",
    "from scipy.optimize import fsolve\n",
    "%matplotlib inline\n",
    "\n",
    "#defining constants\n",
    "G = 6.674e-11\n",
    "M = 5.974e24\n",
    "m = 7.348e22\n",
    "R = 3.844e8\n",
    "omega = 2.662e-6\n",
    "\n",
    "#defining the function whos solution gives location of L1\n",
    "def L(r):\n",
    "    return (G*M/r**2)-(G*m/(R-r)**2)-(omega**2*r)\n",
    "\n",
    "#initial guess and solution\n",
    "r0 = 2e8\n",
    "L1 = fsolve(L, r0)\n",
    "\n",
    "print('Estimate of the distance from Earth to L1 point: {:.0f} m ({:.0f} km)'.format(L1[0], L1[0]/1000))"
   ]
  },
  {
   "cell_type": "code",
   "execution_count": null,
   "metadata": {},
   "outputs": [],
   "source": []
  }
 ],
 "metadata": {
  "kernelspec": {
   "display_name": "Python 3",
   "language": "python",
   "name": "python3"
  },
  "language_info": {
   "codemirror_mode": {
    "name": "ipython",
    "version": 3
   },
   "file_extension": ".py",
   "mimetype": "text/x-python",
   "name": "python",
   "nbconvert_exporter": "python",
   "pygments_lexer": "ipython3",
   "version": "3.6.5"
  }
 },
 "nbformat": 4,
 "nbformat_minor": 1
}

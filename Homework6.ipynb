{
 "cells": [
  {
   "cell_type": "markdown",
   "metadata": {},
   "source": [
    "Ana Lyons\n",
    "101"
   ]
  },
  {
   "cell_type": "markdown",
   "metadata": {
    "collapsed": true
   },
   "source": [
    "# Homework 6: Monte Carlo"
   ]
  },
  {
   "cell_type": "markdown",
   "metadata": {},
   "source": [
    "##### ** Submit this notebook to bCourses to receive a credit for this assignment. **\n",
    "\n",
    "Please complete this homework assignment in code cells in the iPython notebook. Include comments in your code when necessary. Enter your name in the cell at the top of the notebook, and rename the notebook [email_name]_Homework06.ipynb, where [email_name] is the part of your UCB email address that precedes \"@berkeley.edu\" "
   ]
  },
  {
   "cell_type": "markdown",
   "metadata": {},
   "source": [
    "## Problem 1: MC integration [similar to Ayars 6.2, Newman 10.7 ]\n",
    "<i>10 pts</i>\n",
    "\n",
    "The “volume” of a 2-sphere $x^2 + y^2 \\le r^2$ (a.k.a. a “circle”) is $(1)\\pi r^2$. The volume of a 3-sphere $x^2 + y^2 + z^2 \\le r^2$ is $4/3 \\pi r^3$. The equation for an N-sphere is $x_1^2 +x_2^2 +x_3^2 + ... + x_N^2 \\le r^2$ (where $x_i$ are spatial coordinates in $N$ dimensions). We can guess, by induction from the 2-dimensional and 3-dimensional cases, that the “volume” of an N-sphere is $\\alpha_N\\pi r^N$. Write a function that uses Monte Carlo integration to estimate $\\alpha_N$ and its uncertainty for a fixed $N$. Graph $\\alpha_N$ with its uncertainty as a function of $N$ for $N=4..10$. "
   ]
  },
  {
   "cell_type": "code",
   "execution_count": 9,
   "metadata": {},
   "outputs": [
    {
     "data": {
      "text/plain": [
       "Text(0,0.5,'Coefficient (A_N)')"
      ]
     },
     "execution_count": 9,
     "metadata": {},
     "output_type": "execute_result"
    },
    {
     "data": {
      "image/png": "[encoded data removed]",
      "text/plain": [
       "<Figure size 432x288 with 1 Axes>"
      ]
     },
     "metadata": {
      "needs_background": "light"
     },
     "output_type": "display_data"
    }
   ],
   "source": [
    "import numpy as np\n",
    "import matplotlib.pyplot as plt\n",
    "import scipy as sp      \n",
    "from scipy import stats\n",
    "%matplotlib inline\n",
    "\n",
    "def volume_Nsphere(N, n):\n",
    "    '''Given a number of dimensions N, and a number of tries n, returns the estimated coefficient for the \n",
    "    volume function. Uses Monte Carlo integration.\n",
    "    Inputs: N (int), n(int)\n",
    "    Outputs: a_n (float), uncertainty (float)'''\n",
    "    accept = []\n",
    "    for i in range(int(n)):\n",
    "        guess = np.random.rand(1, N)\n",
    "        dist = np.sum(guess**2)\n",
    "        if dist <= 1:\n",
    "            accept.append(i)\n",
    "        else:\n",
    "            continue\n",
    "    a_n = (2**N/np.pi)*(len(accept)/n)\n",
    "    uncertainty = (a_n)/np.sqrt(len(accept))\n",
    "    return a_n, uncertainty\n",
    "\n",
    "#calculating coefficients and uncertainty for N=4...N=10\n",
    "x = range(4, 11)\n",
    "a_n_list = []\n",
    "errors = []\n",
    "for i in x:\n",
    "    a_n, error = volume_Nsphere(i, 100000)\n",
    "    a_n_list.append(a_n)\n",
    "    errors.append(error)\n",
    "\n",
    "#plotting results and their uncertainties\n",
    "plt.errorbar(x, a_n_list, yerr=errors)\n",
    "plt.title('Coefficients for Volume of an N-dimensional Ball\\n(n=100000)')\n",
    "plt.xlabel('Dimensions')\n",
    "plt.ylabel('Coefficient (A_N)')\n",
    "    \n",
    "    "
   ]
  },
  {
   "cell_type": "markdown",
   "metadata": {},
   "source": [
    "## Problem 2: Simulating CUORE \n",
    "<i>(20 pts)</i>\n",
    "\n",
    "The <a href=\"https://cuore.lngs.infn.it/\">CUORE experiment</a> at Gran Sasso, Italy, searches for Neutrinoless Double-Beta Decays ($0\\nu\\beta\\beta$) of $^{130}$Te nucleus. Here we will produce some simulated \"toy\" spectra of what CUORE may see. $0\\nu\\beta\\beta$ events deposit energy in the detector with the mean value of approximately 2530 keV. For the purpose of this simulation, we will assume that the detector response is gaussian with the standard deviation ($\\sigma$) of 2 keV. In addition to signal events, there may be some \"background\" present; for the purpose of this simulation, we will assume that it is uniformly distributed in the region of interest. \n",
    "\n",
    "1. Generate an energy spectrum that CUORE might see, assuming N<sub>signal</sub>=100 signal events and N<sub>bkg</sub>=3000 background events uniformly distributed between energies of 2500 and 2600 keV. Can you see a signal peak in a histogram visually ? \n",
    "\n",
    "1. To measure the number of signal events, you may try to count the number of events in the window [2525..2535] keV ($\\pm 2.5\\sigma$) and subtract the <i>expected</i> number of background events in that window (how many?). How many signal events do you measure in your \"toy\" sample ? \n",
    "\n",
    "1. Compute significance of having observed a non-zero number of signal events, i.e. the probability that the number of signal events you measured is consistent with the zero. (<i>Hint:</i> you are testing a null hypothesis that the signal does not exist. In other words, compute the probability of the background fluctuating to the total number of events you observed in the signal window.) \n",
    "\n",
    "1. How does the significance depend on the size of the window ? "
   ]
  },
  {
   "cell_type": "code",
   "execution_count": 8,
   "metadata": {},
   "outputs": [
    {
     "name": "stdout",
     "output_type": "stream",
     "text": [
      "Expected number of events if it was all noise: 310.000000\n",
      "Actual number of events in window: 405\n",
      "Signal events in toy sample: 95\n",
      "\n",
      "P-value of seeing values over 10 keV window: 1.2891167434629921e-08\n",
      "P-value of seeing values over entire histogram: 0.0001796437229648478\n",
      "\n",
      "As window size increases, the p-value increases (while still being very small). This means that \n",
      "it is more likely that we would see background fluctuations that account for the signal if we \n",
      "look at more background events.\n"
     ]
    },
    {
     "data": {
      "image/png": "[encoded data removed]",
      "text/plain": [
       "<Figure size 432x288 with 1 Axes>"
      ]
     },
     "metadata": {
      "needs_background": "light"
     },
     "output_type": "display_data"
    }
   ],
   "source": [
    "import numpy as np\n",
    "import matplotlib.pyplot as plt\n",
    "import scipy as sp      \n",
    "from scipy import stats\n",
    "%matplotlib inline\n",
    "\n",
    "#the signal, distributed according to a gaussian\n",
    "signal = np.random.normal(loc = 2530, scale = 2.0, size = 100)\n",
    "#the background, distributed uniformly\n",
    "bkg = ((np.random.uniform(size = 3000))*100)+2500\n",
    "\n",
    "overall = np.concatenate((signal, bkg))\n",
    "n, bins, patches = plt.hist(overall, 35) #it's not very easy to see a signal peak visually\n",
    "\n",
    "window_counts = []\n",
    "for i in overall:\n",
    "    if i >= 2525 and i <= 2535:\n",
    "        window_counts.append(i)\n",
    "\n",
    "#expected number of bkg events in a 10 keV range is 310 (if there are 3100 uniformly distributed along a 100 keV interval)\n",
    "window = 10\n",
    "E = 31*window\n",
    "O = len(window_counts)\n",
    "print('Expected number of events if it was all noise: {:f}'.format(E))\n",
    "print('Actual number of events in window: {}'.format(O))\n",
    "print('Signal events in toy sample: {}'.format(O-E))\n",
    "\n",
    "#finding significance of seeing the deviation from expected value\n",
    "chi_squared, pvalue = sp.stats.chisquare(n)\n",
    "chi_squared1, pvalue1 = sp.stats.chisquare([O, 3100-O], [E, 3100-E])\n",
    "\n",
    "print('\\nP-value of seeing values over 10 keV window: {}'.format(pvalue1))\n",
    "print('P-value of seeing values over entire histogram: {}'.format(pvalue))\n",
    "\n",
    "#how does p-value depend on window size?\n",
    "print('''\\nAs window size increases, the p-value increases (while still being very small). This means that \n",
    "it is more likely that we would see background fluctuations that account for the signal if we \n",
    "look at more background events.''')\n",
    "\n",
    "\n",
    "\n",
    "\n",
    "\n"
   ]
  },
  {
   "cell_type": "code",
   "execution_count": null,
   "metadata": {},
   "outputs": [],
   "source": []
  },
  {
   "cell_type": "code",
   "execution_count": null,
   "metadata": {},
   "outputs": [],
   "source": []
  }
 ],
 "metadata": {
  "kernelspec": {
   "display_name": "Python 3",
   "language": "python",
   "name": "python3"
  },
  "language_info": {
   "codemirror_mode": {
    "name": "ipython",
    "version": 3
   },
   "file_extension": ".py",
   "mimetype": "text/x-python",
   "name": "python",
   "nbconvert_exporter": "python",
   "pygments_lexer": "ipython3",
   "version": "3.6.5"
  }
 },
 "nbformat": 4,
 "nbformat_minor": 1
}

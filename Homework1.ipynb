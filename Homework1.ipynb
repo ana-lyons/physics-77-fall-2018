{
 "cells": [
  {
   "cell_type": "markdown",
   "metadata": {},
   "source": [
    "Ana Lyons  \n",
    "Section 101"
   ]
  },
  {
   "cell_type": "markdown",
   "metadata": {},
   "source": [
    "# Homework 1: Python basics and a little plotting"
   ]
  },
  {
   "cell_type": "markdown",
   "metadata": {},
   "source": [
    "** Submit this notebook to bCourses to receive a credit for this assignment.**\n",
    "\n",
    "Please complete this homework assignment in code cells in the iPython notebook. Include comments in your code when necessary. Enter your name in the cell at the top of the notebook, and rename the notebook [email_name]_HW01.ipynb, where [email_name] is the part of your UCB email address that precedes \"@berkeley.edu\" "
   ]
  },
  {
   "cell_type": "markdown",
   "metadata": {},
   "source": [
    "## Problem 1: Satellite Altitudes\n",
    "\n",
    "[Adapted from Newman, Exercise 2.2] A satellite is to be launched into a circular orbit around the Earth so that it orbits the planet once every $T$ seconds. The altitude $h$ above the Earth's surface that the satellite must have is $$ h = \\left( \\frac{G M T^2}{4 \\pi^2} \\right)^{1/3} - R, $$ where $G = 6.67 \\times 10^{-11}~\\text{m}^3~\\text{kg}^{-1}~\\text{s}^{-2}$ is Newton's gravitational constant, $M = 5.97 \\times 10^{24}~\\text{kg}$ is the mass of the Earth, and $R = 6371~\\text{km}$ is its radius."
   ]
  },
  {
   "cell_type": "markdown",
   "metadata": {},
   "source": [
    "**1a.** Write a program that, for a given value of $T$ (entered as a variable T in a cell), calculates and prints out the correct altitude in meters, kilometers, and miles, with one decimal place for each result.\n",
    "\n",
    "*Output for 1a*: When the code cell for this part of the problem is entered, it should specify (in the comments or the Markdown cell above) what units of $T$ are assumed. The program should print out the correct altitude in meters, kilometers, and miles, with one decimal place for each result."
   ]
  },
  {
   "cell_type": "code",
   "execution_count": 10,
   "metadata": {},
   "outputs": [
    {
     "name": "stdout",
     "output_type": "stream",
     "text": [
      "The altitude of a satellite with a period of 3.5 hours is:\n",
      "\n",
      "5328316.9  meters\n",
      "5328.3  kilometers\n",
      "3308.9  miles\n"
     ]
    }
   ],
   "source": [
    "import math as math  #to be able to use the pi function\n",
    "\n",
    "#assigning all the variables, calculating the altitude\n",
    "G = 6.67*(10**-11)\n",
    "M_Earth = 5.97*(10**24)\n",
    "R_Earth = 6371*(10**3)    #converted R into m from km, so that the units in R and G match\n",
    "\n",
    "T = 3.5               #assumed units = hours, will convert into seconds after\n",
    "\n",
    "h = (G*M_Earth*((T*3600)**2)/(4*math.pi**2))**(1/3)-R_Earth\n",
    "\n",
    "#printing and formatting the results\n",
    "print('The altitude of a satellite with a period of', T, 'hours', 'is:')\n",
    "print('')\n",
    "print(round(h, 1), ' meters')              #prints the original value of h, rounded to one decimal place\n",
    "print(round(h/1000, 1), ' kilometers')     #converts h from meters to kilometers, rounded to one decimal place\n",
    "print(round((h/1000)*0.621, 1), ' miles')  #converts h from meters to miles, rounded to one decimal place"
   ]
  },
  {
   "cell_type": "markdown",
   "metadata": {},
   "source": [
    "*Output for 1b and 1c:* Use code cells to carry out the desired calculations, and Markdown cells to present and discuss your results."
   ]
  },
  {
   "cell_type": "markdown",
   "metadata": {},
   "source": [
    "**1b.** Use your program to calculate the altitudes of satellites that orbit the Earth once a day (so-called \"geosynchronous\" orbit), once every 90 minutes, and once every 45 minutes. What do you conclude from the last of these calculations?"
   ]
  },
  {
   "cell_type": "code",
   "execution_count": 45,
   "metadata": {},
   "outputs": [
    {
     "name": "stdout",
     "output_type": "stream",
     "text": [
      "The altitude of a satellite with a period of 24 hours is:\n",
      "\n",
      "35855910.2  meters\n",
      "35855.9  kilometers\n",
      "22266.5  miles\n"
     ]
    }
   ],
   "source": [
    "#assigning all the variables, calculating the altitude\n",
    "G = 6.67*(10**-11)\n",
    "M_Earth = 5.97*(10**24)\n",
    "R_Earth = 6371*(10**3)    #converted R into m from km, so that the units in R and G match\n",
    "\n",
    "T = 24                    #assumed units = hours, will convert into seconds after\n",
    "\n",
    "h = (G*M_Earth*((T*3600)**2)/(4*math.pi**2))**(1/3)-R_Earth\n",
    "\n",
    "#printing and formatting the results\n",
    "print('The altitude of a satellite with a period of', T, 'hours', 'is:')\n",
    "print('')\n",
    "print(round(h, 1), ' meters')              #prints the original value of h, rounded to one decimal place\n",
    "print(round(h/1000, 1), ' kilometers')     #converts h from meters to kilometers, rounded to one decimal place\n",
    "print(round((h/1000)*0.621, 1), ' miles')  #converts h from meters to miles, rounded to one decimal place"
   ]
  },
  {
   "cell_type": "code",
   "execution_count": 11,
   "metadata": {},
   "outputs": [
    {
     "name": "stdout",
     "output_type": "stream",
     "text": [
      "The altitude of a satellite with a period of 1.5 hours is:\n",
      "\n",
      "279321.6  meters\n",
      "279.3  kilometers\n",
      "173.5  miles\n"
     ]
    }
   ],
   "source": [
    "#assigning all the variables, calculating the altitude\n",
    "G = 6.67*(10**-11)\n",
    "M_Earth = 5.97*(10**24)\n",
    "R_Earth = 6371*(10**3)    #converted R into m from km, so that the units in R and G match\n",
    "\n",
    "T = 1.5               #assumed units = hours, will convert into seconds after\n",
    "\n",
    "h = (G*M_Earth*((T*3600)**2)/(4*math.pi**2))**(1/3)-R_Earth\n",
    "\n",
    "#printing and formatting the results\n",
    "print('The altitude of a satellite with a period of', T, 'hours', 'is:')\n",
    "print('')\n",
    "print(round(h, 1), ' meters')              #prints the original value of h, rounded to one decimal place\n",
    "print(round(h/1000, 1), ' kilometers')     #converts h from meters to kilometers, rounded to one decimal place\n",
    "print(round((h/1000)*0.621, 1), ' miles')  #converts h from meters to miles, rounded to one decimal place"
   ]
  },
  {
   "cell_type": "code",
   "execution_count": 47,
   "metadata": {},
   "outputs": [
    {
     "name": "stdout",
     "output_type": "stream",
     "text": [
      "The altitude of a satellite with a period of 0.75 hours is:\n",
      "\n",
      "-2181559.9  meters\n",
      "-2181.6  kilometers\n",
      "-1354.7  miles\n"
     ]
    }
   ],
   "source": [
    "#assigning all the variables, calculating the altitude\n",
    "G = 6.67*(10**-11)\n",
    "M_Earth = 5.97*(10**24)\n",
    "R_Earth = 6371*(10**3)    #converted R into m from km, so that the units in R and G match\n",
    "\n",
    "T = 0.75              #assumed units = hours, will convert into seconds after\n",
    "\n",
    "h = (G*M_Earth*((T*3600)**2)/(4*math.pi**2))**(1/3)-R_Earth\n",
    "\n",
    "#printing and formatting the results\n",
    "print('The altitude of a satellite with a period of', T, 'hours', 'is:')\n",
    "print('')\n",
    "print(round(h, 1), ' meters')              #prints the original value of h, rounded to one decimal place\n",
    "print(round(h/1000, 1), ' kilometers')     #converts h from meters to kilometers, rounded to one decimal place\n",
    "print(round((h/1000)*0.621, 1), ' miles')  #converts h from meters to miles, rounded to one decimal place"
   ]
  },
  {
   "cell_type": "markdown",
   "metadata": {},
   "source": [
    "The results from the last calculation give negative numbers for the altitude of the satellite. This means that a satellite orbiting the earth once every 45 minutes would have to orbit below the surface of the earth, in order to be close enough to have that fast of an orbit."
   ]
  },
  {
   "cell_type": "markdown",
   "metadata": {},
   "source": [
    "**1c.** Technically a geosynchronous satellite is one that orbits the Earth once per *sidereal day*, which is 23.93 hours, not 24 hours. Why is this? And how much difference will it make to the altitude of the satellite?"
   ]
  },
  {
   "cell_type": "markdown",
   "metadata": {},
   "source": [
    "A sidereal day is the amount of time that it takes for the Earth to rotate relative to the stars. For a geosynchronous satellite to truly appear to hover over the same point on the Earth as it orbits, it needs to go around the Earth at the same speed the Earth moves relative to the stars. This means that the altitude of the satellite decreases slightly-- 22215.5 miles instead of 22266.5 miles. "
   ]
  },
  {
   "cell_type": "markdown",
   "metadata": {},
   "source": [
    "#### Hints\n",
    "\n",
    "Be very careful of units! Unlike wolframalpha.com, python is oblivious to what units your various numbers represent. You need to carefully keep track of them to make sure that your units work out. Not converting units properly can lead to [very expensive disasters](https://en.wikipedia.org/wiki/Mars_Climate_Orbiter) or just wrong scientific results ...\n",
    "\n",
    "Remember to comment your code and use descriptive variable names so others (and future you) can understand what you're doing!"
   ]
  },
  {
   "cell_type": "markdown",
   "metadata": {},
   "source": [
    "## Problem 2: Perfect Hardboiled Eggs\n",
    "\n",
    "[Adapted from Langtangen, Exercise 1.12. You may derive the formula in Physics 112 or Physics 89] As an egg cooks, the proteins first denature and then coagulate. When the temperature exceeds a critical point, reactions begin and proceed faster as the temperature increases. In the egg white the proteins start to coagulate for temperatures above 63 C, while in the  yolk the proteins start to coagulate for temperatures above 70 C. For a soft boiled egg, the white needs to have been heated long enough to coagulate at a temperature above 63 C, but the yolk should not be heated above 70 C. For a hard boiled egg, the center of the yolk should be allowed to reach 70 C.\n",
    "\n",
    "The following formula expresses the time $t$ it takes (in seconds) for the center of the yolk to reach the temperature $T_y$ (in Celsius degrees): $$ t = \\frac{M^{2/3} c \\rho^{1/3}}{K \\pi^2 (4\\pi/3)^{2/3}} \\ln \\left[ 0.76 \\frac{T_0 - T_w}{T_y - T_w} \\right] . $$ Here, $M$, $\\rho$, $c$, and $K$ are properties of the egg:\n",
    "* $M$ is the mass,\n",
    "* $\\rho$ is the density,\n",
    "* $c$ is the specific heat capacity, and \n",
    "* $K$ is the thermal conductivity.\n",
    "\n",
    "Relevant values are\n",
    "* $M = 64~\\text{g}$ for a large egg (USA size XL: en.wikipedia.org/wiki/Chicken_egg_sizes),\n",
    "* $\\rho = 1.0378~\\text{g cm}^{-3}$,\n",
    "* $c = 3.7~\\text{J g}^{-1}\\,\\text{K}^{-1}$, and\n",
    "* $K = 5.4 \\cdot 10^{-3}~\\text{W cm}^{-1}\\,\\text{K}^{-1}$.\n",
    "\n",
    "Furthermore,\n",
    "* $T_w$ is the temperature (in C degrees) of the boiling water, and\n",
    "* $T_0$ is the original temperature (in C degrees) of the egg before being put in the water.\n",
    "\n",
    "Suppose we want our eggs hard-boiled. Implement the formula in a program, set $T_w = 100~\\text{C}$ and $T_y = 70~\\text{C}$, and compute $t$ for a large egg taken from the fridge ($T_0 = 4~\\text{C}$) and from room temperature ($T_0 = 20~\\text{C}$). Also compute the results for a small egg ($M = 42~\\text{g}$)."
   ]
  },
  {
   "cell_type": "markdown",
   "metadata": {},
   "source": [
    "*Output for 2:*\n",
    "When you run your code cell, it should produce the following text, with your numbers instead of the `TTT`, `MMM`, and `SSS` placeholders:\n",
    "\n",
    "    To hard-boil a large egg taken directly from the fridge, cook it for TTT minutes (MMM min, SSS sec).\n",
    "    To hard-boil a small egg taken directly from the fridge, cook it for TTT minutes (MMM min, SSS sec).\n",
    "    To hard-boil a large egg starting from room temperature, cook it for TTT minutes (MMM min, SSS sec).\n",
    "    To hard-boil a small egg starting from room temperature, cook it for TTT minutes (MMM min, SSS sec).\n",
    "\n",
    "The `TTT` placeholders should be values in minutes to two decimal places. The `MMM` and `SSS` placeholders should be rounded to the nearest minute/second, with no decimal places. For example,\n",
    "\n",
    "    To hard-boil a large egg taken directly from the fridge, cook it for 56.78 minutes (56 min 47 sec).\n",
    "    "
   ]
  },
  {
   "cell_type": "code",
   "execution_count": 54,
   "metadata": {},
   "outputs": [
    {
     "name": "stdout",
     "output_type": "stream",
     "text": [
      "To hard-boil a large egg taken directly from the fridge, cook it for 6.41 minutes (6 min 25 sec).\n",
      "To hard-boil a small egg taken directly from the fridge, cook it for 4.84 minutes (5 min 50 sec).\n",
      "To hard-boil a large egg starting from room temperature, cook it for 5.1 minutes (5 min 6 sec).\n",
      "To hard-boil a small egg starting from room temperature, cook it for 3.85 minutes (4 min 51 sec).\n"
     ]
    }
   ],
   "source": [
    "import math as math\n",
    "\n",
    "#assigning values to known variables\n",
    "M_large = 64     #mass of large egg\n",
    "M_small = 42     #mass of small egg\n",
    "p = 1.0378       #density\n",
    "c = 3.7          #heat capacity\n",
    "K = 5.4*10**-3   #thermal conductivity\n",
    "T_fridge = 4     #temperature of fridge\n",
    "T_room = 20      #temperature of room\n",
    "T_y = 70         #temperature for yolk\n",
    "T_w = 100        #temperature for whites\n",
    "\n",
    "#splitting up formula into several parts (specific to whether egg is from fridge or not, and whether it is small or large)\n",
    "A_fridge = (T_fridge - T_w)/(T_y - T_w)\n",
    "A_room = (T_room - T_w)/(T_y - T_w)\n",
    "B = (c*p**(1/3))/(K*((math.pi)**2)*(4*math.pi/3)**(2/3))\n",
    "C_large = M_large**(2/3)\n",
    "C_small = M_small**(2/3)\n",
    "\n",
    "#calculating the time for each scenario, putting together split formulas above\n",
    "largefridge = C_large*B*math.log(0.76*A_fridge)\n",
    "smallfridge = C_small*B*math.log(0.76*A_fridge)\n",
    "largeroom = C_large*B*math.log(0.76*A_room)\n",
    "smallroom = C_small*B*math.log(0.76*A_room)\n",
    "\n",
    "#finding time in minutes, rounding to 2 decimal places\n",
    "l_f_min = round(largefridge/60., 2)\n",
    "s_f_min = round(smallfridge/60., 2)\n",
    "l_r_min = round(largeroom/60., 2)\n",
    "s_r_min = round(smallroom/60., 2)\n",
    "\n",
    "#the minutes, but rounded to the nearest minute instead\n",
    "l_f_round = round(largefridge/60)\n",
    "s_f_round = round(smallfridge/60)\n",
    "l_r_round = round(largeroom/60)\n",
    "s_r_round = round(smallroom/60)\n",
    "\n",
    "#finding the amount of seconds needed for the cooking time\n",
    "l_f_sec = round(largefridge%60)\n",
    "s_f_sec = round(smallfridge%60)\n",
    "l_r_sec = round(largeroom%60)\n",
    "s_r_sec = round(smallroom%60)\n",
    "\n",
    "\n",
    "#printing and formatting the values calculated above\n",
    "print((\"To hard-boil a large egg taken directly from the fridge, cook it for {} minutes ({} min {} sec).\").format(l_f_min, l_f_round, l_f_sec))\n",
    "print((\"To hard-boil a small egg taken directly from the fridge, cook it for {} minutes ({} min {} sec).\").format(s_f_min, s_f_round, s_f_sec))\n",
    "print((\"To hard-boil a large egg starting from room temperature, cook it for {} minutes ({} min {} sec).\").format(l_r_min, l_r_round, l_r_sec))\n",
    "print((\"To hard-boil a small egg starting from room temperature, cook it for {} minutes ({} min {} sec).\").format(s_r_min, s_r_round, s_r_sec))\n",
    "                                                                                                                 \n",
    "                                                                                                                 \n",
    "                                                                                                                 "
   ]
  },
  {
   "cell_type": "markdown",
   "metadata": {},
   "source": [
    "#### Hints\n",
    "\n",
    "Writing the entire formula in one line is difficult to type, difficult to read, difficult to debug---and you have to retype the entire calculation just to change one piece of it. Try breaking it down in smaller chunks assigned to variables, and combine those chunks to produce the final result.\n",
    "\n",
    "Beware of integer division!\n",
    "\n",
    "Remember to comment your code and use descriptive variable names so others (and future you) can understand what you're doing!"
   ]
  },
  {
   "cell_type": "markdown",
   "metadata": {},
   "source": [
    "## Problem 3: Estimating Half-Life\n",
    "\n",
    "[Adapted from Ayars, Problem 0-3] The data in file Ba137.txt (available here: https://raw.githubusercontent.com/celegante/code_chapter_0-_github/master/Ba137.txt) is actual data from a radioactive decay experiment; the first column is the number of decays $N$, the second is the time $t$ in seconds. We'd like to know the half-life $t_{1/2}$ of $^{137}\\text{Ba}$. It should follow the decay equation $$ N = N_0 e^{-\\lambda t} $$ where $\\lambda = \\frac{\\log 2}{t_{1/2}}$. Using the techniques you've learned from the lecture and workshop, load the data from the file Ba137.txt into appropriately-named variables. Experiment with different values of $N$ and $\\lambda$ and plot the resulting equation on top of the data. (Python uses `exp()` to calculate the exponential function: i.e. `y = A*exp(-L*time)` ) Don't worry about automating this process yet (unless you *really* want to!) just try adjusting things by hand until the equation matches the data pretty well. What is your best estimate for $t_{1/2}$?"
   ]
  },
  {
   "cell_type": "markdown",
   "metadata": {},
   "source": [
    "*Output for 3:*\n",
    "When you run your code cell, it should produce a well-labeled plot with both the data and your curve of best fit. It should also print a message to the terminal which says, \"My best estimate for the half life is $x$\", where $x$ is your estimate with units."
   ]
  },
  {
   "cell_type": "code",
   "execution_count": 56,
   "metadata": {},
   "outputs": [
    {
     "name": "stdout",
     "output_type": "stream",
     "text": [
      "My best estimate for the half life is 73.4 seconds.\n"
     ]
    },
    {
     "data": {
      "image/png": "[encoded data removed]",
      "text/plain": [
       "<Figure size 432x288 with 1 Axes>"
      ]
     },
     "metadata": {},
     "output_type": "display_data"
    }
   ],
   "source": [
    "import numpy as np\n",
    "import matplotlib.pyplot as plt\n",
    "\n",
    "#loading data into two arrays, N for number of counts and t for time the measurement was taken\n",
    "N, t = np.loadtxt('Ba137.txt', unpack = True) \n",
    "\n",
    "#assigning variables to calculate best fit curve\n",
    "half_t = 73.4\n",
    "N_0 = 2.9*10**4\n",
    "lambda0 = np.log10(2)/half_t\n",
    "\n",
    "#plotting and formatting the resulting figure\n",
    "plt.plot(t, N, '.g')                          #this plots the actual data with green points\n",
    "plt.plot(t, N_0*np.exp(-lambda0*t))           #plots the best fit curve with a blue line\n",
    "plt.xlabel('Time (s)')              \n",
    "plt.ylabel('Number of Decays')\n",
    "plt.title('Best fit for Half-Life of Ba137')\n",
    "plt.legend(['Ba137 Data', 'Best Fit Curve'])\n",
    "\n",
    "print('My best estimate for the half life is', half_t, \"seconds.\")"
   ]
  },
  {
   "cell_type": "markdown",
   "metadata": {},
   "source": [
    "#### Hints\n",
    "\n",
    "Remember to comment your code and use descriptive variable names so others (and future you) can understand what you're doing!"
   ]
  },
  {
   "cell_type": "code",
   "execution_count": null,
   "metadata": {
    "collapsed": true
   },
   "outputs": [],
   "source": []
  }
 ],
 "metadata": {
  "kernelspec": {
   "display_name": "Python 3",
   "language": "python",
   "name": "python3"
  },
  "language_info": {
   "codemirror_mode": {
    "name": "ipython",
    "version": 3
   },
   "file_extension": ".py",
   "mimetype": "text/x-python",
   "name": "python",
   "nbconvert_exporter": "python",
   "pygments_lexer": "ipython3",
   "version": "3.6.5"
  }
 },
 "nbformat": 4,
 "nbformat_minor": 1
}
